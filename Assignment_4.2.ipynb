{
 "cells": [
  {
   "cell_type": "code",
   "execution_count": 27,
   "metadata": {},
   "outputs": [
    {
     "name": "stdout",
     "output_type": "stream",
     "text": [
      "Accepting a list of words seperated by space as input from the user : RAmesh Rames Ram R Ra Naik Nai\n",
      "maps list of words  RAmesh Rames Ram R Ra Naik Nai legths of words [6, 5, 3, 1, 2, 4, 3]\n",
      "Do You want to continue? (Y/N)Y\n",
      "Accepting a character as input from the user : a\n",
      "The given char ' a ' is a vowel\n",
      "Do You want to continue? (Y/N)Y\n",
      "Accepting a character as input from the user : S\n",
      "The given char ' S ' is a NOT vowel\n",
      "Do You want to continue? (Y/N)N\n"
     ]
    }
   ],
   "source": [
    "# A function that maps list of words into a list of integers representing the lengths of the corresponding words.\n",
    "# A function which takes a character (i.e. a string of length 1) and returns True if it is a vowel, False otherwise.\n",
    "\n",
    "def wordsLength(words_list):\n",
    "    wordsLength_list = []\n",
    "    for word in words_list.split():\n",
    "        wordsLength_list.append(len(word))\n",
    "    return(wordsLength_list) \n",
    "\n",
    "def isVowel(char):\n",
    "    all_vowels = 'aeiou'\n",
    "    return char in all_vowels\n",
    "\n",
    "# Take a list of words as input\n",
    "wordsList = input(\"Accepting a list of words seperated by space as input from the user : \")\n",
    "length_list = wordsLength(wordsList)\n",
    "print(\"maps list of words \", wordsList , \"legths of words\", length_list)\n",
    "\n",
    "# Take a character (Y/N) as input\n",
    "word = input(\"Do You want to continue? (Y/N)\")\n",
    "while ( word == \"Y\"):\n",
    "    # Take a character as input\n",
    "    word = input(\"Accepting a character as input from the user : \")\n",
    "    char = word.split()\n",
    "    if (len(char[0]) >1):\n",
    "        raise Exception(\"Input must be a single word\")\n",
    "    if(isVowel(char[0])):\n",
    "        print(\"The given char '\", char[0] , \"' is a vowel\")\n",
    "    else:\n",
    "        print(\"The given char '\", char[0] , \"' is a NOT vowel\")\n",
    "    word = input(\"Do You want to continue? (Y/N)\")"
   ]
  },
  {
   "cell_type": "code",
   "execution_count": null,
   "metadata": {},
   "outputs": [],
   "source": []
  }
 ],
 "metadata": {
  "kernelspec": {
   "display_name": "Python 3",
   "language": "python",
   "name": "python3"
  },
  "language_info": {
   "codemirror_mode": {
    "name": "ipython",
    "version": 3
   },
   "file_extension": ".py",
   "mimetype": "text/x-python",
   "name": "python",
   "nbconvert_exporter": "python",
   "pygments_lexer": "ipython3",
   "version": "3.6.4"
  }
 },
 "nbformat": 4,
 "nbformat_minor": 2
}
